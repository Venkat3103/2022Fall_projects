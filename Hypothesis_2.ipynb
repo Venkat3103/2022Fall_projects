{
 "cells": [
  {
   "cell_type": "markdown",
   "source": [
    "Author: Arjun Kumaran"
   ],
   "metadata": {
    "collapsed": false,
    "pycharm": {
     "name": "#%% md\n"
    }
   }
  },
  {
   "cell_type": "markdown",
   "source": [
    "All the Functions used in this notebook can be found in the Helper_Function_Hypothesis_2.py file"
   ],
   "metadata": {
    "collapsed": false,
    "pycharm": {
     "name": "#%% md\n"
    }
   }
  },
  {
   "cell_type": "code",
   "execution_count": 2,
   "outputs": [],
   "source": [
    "import os\n",
    "import pandas as pd\n",
    "import numpy as np\n",
    "import requests, zipfile, io\n",
    "from matplotlib import rcParams\n",
    "rcParams['figure.figsize'] = 11.7,15\n",
    "import Helper_Function_Hypothesis_2 as hf\n",
    "\n",
    "import warnings\n",
    "warnings.filterwarnings(\"ignore\")"
   ],
   "metadata": {
    "collapsed": false,
    "pycharm": {
     "name": "#%%\n"
    }
   }
  },
  {
   "cell_type": "code",
   "execution_count": 3,
   "outputs": [],
   "source": [
    "pd.set_option('display.max_rows', 10000)\n",
    "pd.set_option('display.max_columns', 50)\n",
    "pd.set_option('expand_frame_repr', False)"
   ],
   "metadata": {
    "collapsed": false,
    "pycharm": {
     "name": "#%%\n"
    }
   }
  },
  {
   "cell_type": "code",
   "execution_count": 4,
   "outputs": [],
   "source": [
    "df = pd.read_csv(\"https://github.com/Venkat3103/2022Fall_projects/blob/main/ipl_2018_2020_bbb.csv?raw=true\")\n",
    "match_info = pd.read_csv(\"https://raw.githubusercontent.com/Venkat3103/2022Fall_projects/main/ipl_match_info.csv\")\n",
    "bowler_info = pd.read_excel(\"https://github.com/Venkat3103/2022Fall_projects/blob/main/bowler_info.xlsx?raw=true\")\n",
    "teamsheet = pd.read_csv('https://raw.githubusercontent.com/Venkat3103/2022Fall_projects/main/teamsheet.csv')"
   ],
   "metadata": {
    "collapsed": false,
    "pycharm": {
     "name": "#%%\n"
    }
   }
  },
  {
   "cell_type": "code",
   "execution_count": 5,
   "outputs": [
    {
     "data": {
      "text/plain": "   Unnamed: 0  match_id season  start_date                               venue  innings  ball      batting_team         bowling_team    striker non_striker   bowler  runs_off_bat  extras  wides  noballs  byes  legbyes  penalty wicket_type player_dismissed  other_wicket_type  other_player_dismissed\n0           0   1136564   2018  2018-04-09  Rajiv Gandhi International Stadium        1   0.1  Rajasthan Royals  Sunrisers Hyderabad  AM Rahane   DJM Short  B Kumar             0       0    NaN      NaN   NaN      NaN      NaN         NaN              NaN                NaN                     NaN\n1           1   1136564   2018  2018-04-09  Rajiv Gandhi International Stadium        1   0.2  Rajasthan Royals  Sunrisers Hyderabad  AM Rahane   DJM Short  B Kumar             1       0    NaN      NaN   NaN      NaN      NaN         NaN              NaN                NaN                     NaN\n2           2   1136564   2018  2018-04-09  Rajiv Gandhi International Stadium        1   0.3  Rajasthan Royals  Sunrisers Hyderabad  DJM Short   AM Rahane  B Kumar             0       0    NaN      NaN   NaN      NaN      NaN         NaN              NaN                NaN                     NaN\n3           3   1136564   2018  2018-04-09  Rajiv Gandhi International Stadium        1   0.4  Rajasthan Royals  Sunrisers Hyderabad  DJM Short   AM Rahane  B Kumar             0       1    1.0      NaN   NaN      NaN      NaN         NaN              NaN                NaN                     NaN\n4           4   1136564   2018  2018-04-09  Rajiv Gandhi International Stadium        1   0.5  Rajasthan Royals  Sunrisers Hyderabad  DJM Short   AM Rahane  B Kumar             4       0    NaN      NaN   NaN      NaN      NaN         NaN              NaN                NaN                     NaN",
      "text/html": "<div>\n<style scoped>\n    .dataframe tbody tr th:only-of-type {\n        vertical-align: middle;\n    }\n\n    .dataframe tbody tr th {\n        vertical-align: top;\n    }\n\n    .dataframe thead th {\n        text-align: right;\n    }\n</style>\n<table border=\"1\" class=\"dataframe\">\n  <thead>\n    <tr style=\"text-align: right;\">\n      <th></th>\n      <th>Unnamed: 0</th>\n      <th>match_id</th>\n      <th>season</th>\n      <th>start_date</th>\n      <th>venue</th>\n      <th>innings</th>\n      <th>ball</th>\n      <th>batting_team</th>\n      <th>bowling_team</th>\n      <th>striker</th>\n      <th>non_striker</th>\n      <th>bowler</th>\n      <th>runs_off_bat</th>\n      <th>extras</th>\n      <th>wides</th>\n      <th>noballs</th>\n      <th>byes</th>\n      <th>legbyes</th>\n      <th>penalty</th>\n      <th>wicket_type</th>\n      <th>player_dismissed</th>\n      <th>other_wicket_type</th>\n      <th>other_player_dismissed</th>\n    </tr>\n  </thead>\n  <tbody>\n    <tr>\n      <th>0</th>\n      <td>0</td>\n      <td>1136564</td>\n      <td>2018</td>\n      <td>2018-04-09</td>\n      <td>Rajiv Gandhi International Stadium</td>\n      <td>1</td>\n      <td>0.1</td>\n      <td>Rajasthan Royals</td>\n      <td>Sunrisers Hyderabad</td>\n      <td>AM Rahane</td>\n      <td>DJM Short</td>\n      <td>B Kumar</td>\n      <td>0</td>\n      <td>0</td>\n      <td>NaN</td>\n      <td>NaN</td>\n      <td>NaN</td>\n      <td>NaN</td>\n      <td>NaN</td>\n      <td>NaN</td>\n      <td>NaN</td>\n      <td>NaN</td>\n      <td>NaN</td>\n    </tr>\n    <tr>\n      <th>1</th>\n      <td>1</td>\n      <td>1136564</td>\n      <td>2018</td>\n      <td>2018-04-09</td>\n      <td>Rajiv Gandhi International Stadium</td>\n      <td>1</td>\n      <td>0.2</td>\n      <td>Rajasthan Royals</td>\n      <td>Sunrisers Hyderabad</td>\n      <td>AM Rahane</td>\n      <td>DJM Short</td>\n      <td>B Kumar</td>\n      <td>1</td>\n      <td>0</td>\n      <td>NaN</td>\n      <td>NaN</td>\n      <td>NaN</td>\n      <td>NaN</td>\n      <td>NaN</td>\n      <td>NaN</td>\n      <td>NaN</td>\n      <td>NaN</td>\n      <td>NaN</td>\n    </tr>\n    <tr>\n      <th>2</th>\n      <td>2</td>\n      <td>1136564</td>\n      <td>2018</td>\n      <td>2018-04-09</td>\n      <td>Rajiv Gandhi International Stadium</td>\n      <td>1</td>\n      <td>0.3</td>\n      <td>Rajasthan Royals</td>\n      <td>Sunrisers Hyderabad</td>\n      <td>DJM Short</td>\n      <td>AM Rahane</td>\n      <td>B Kumar</td>\n      <td>0</td>\n      <td>0</td>\n      <td>NaN</td>\n      <td>NaN</td>\n      <td>NaN</td>\n      <td>NaN</td>\n      <td>NaN</td>\n      <td>NaN</td>\n      <td>NaN</td>\n      <td>NaN</td>\n      <td>NaN</td>\n    </tr>\n    <tr>\n      <th>3</th>\n      <td>3</td>\n      <td>1136564</td>\n      <td>2018</td>\n      <td>2018-04-09</td>\n      <td>Rajiv Gandhi International Stadium</td>\n      <td>1</td>\n      <td>0.4</td>\n      <td>Rajasthan Royals</td>\n      <td>Sunrisers Hyderabad</td>\n      <td>DJM Short</td>\n      <td>AM Rahane</td>\n      <td>B Kumar</td>\n      <td>0</td>\n      <td>1</td>\n      <td>1.0</td>\n      <td>NaN</td>\n      <td>NaN</td>\n      <td>NaN</td>\n      <td>NaN</td>\n      <td>NaN</td>\n      <td>NaN</td>\n      <td>NaN</td>\n      <td>NaN</td>\n    </tr>\n    <tr>\n      <th>4</th>\n      <td>4</td>\n      <td>1136564</td>\n      <td>2018</td>\n      <td>2018-04-09</td>\n      <td>Rajiv Gandhi International Stadium</td>\n      <td>1</td>\n      <td>0.5</td>\n      <td>Rajasthan Royals</td>\n      <td>Sunrisers Hyderabad</td>\n      <td>DJM Short</td>\n      <td>AM Rahane</td>\n      <td>B Kumar</td>\n      <td>4</td>\n      <td>0</td>\n      <td>NaN</td>\n      <td>NaN</td>\n      <td>NaN</td>\n      <td>NaN</td>\n      <td>NaN</td>\n      <td>NaN</td>\n      <td>NaN</td>\n      <td>NaN</td>\n      <td>NaN</td>\n    </tr>\n  </tbody>\n</table>\n</div>"
     },
     "execution_count": 5,
     "metadata": {},
     "output_type": "execute_result"
    }
   ],
   "source": [
    "df.head()"
   ],
   "metadata": {
    "collapsed": false,
    "pycharm": {
     "name": "#%%\n"
    }
   }
  },
  {
   "cell_type": "code",
   "execution_count": 6,
   "outputs": [],
   "source": [
    "if not os.path.exists('competition_data'):\n",
    "    os.mkdir('competition_data')\n",
    "    req = requests.get(\"https://cricsheet.org/downloads/ipl_male_csv2.zip\")\n",
    "    z = zipfile.ZipFile(io.BytesIO(req.content))\n",
    "    z.extractall(\"competition_data/ipl\")"
   ],
   "metadata": {
    "collapsed": false,
    "pycharm": {
     "name": "#%%\n"
    }
   }
  },
  {
   "cell_type": "code",
   "execution_count": 7,
   "outputs": [],
   "source": [
    "df.drop(columns={\"Unnamed: 0\"},inplace=True)"
   ],
   "metadata": {
    "collapsed": false,
    "pycharm": {
     "name": "#%%\n"
    }
   }
  },
  {
   "cell_type": "code",
   "execution_count": 8,
   "outputs": [
    {
     "data": {
      "text/plain": "array([ 0.1,  0.2,  0.3,  0.4,  0.5,  0.6,  0.7,  1.1,  1.2,  1.3,  1.4,\n        1.5,  1.6,  2.1,  2.2,  2.3,  2.4,  2.5,  2.6,  3.1,  3.2,  3.3,\n        3.4,  3.5,  3.6,  4.1,  4.2,  4.3,  4.4,  4.5,  4.6,  4.7,  5.1,\n        5.2,  5.3,  5.4,  5.5,  5.6,  6.1,  6.2,  6.3,  6.4,  6.5,  6.6,\n        6.7,  7.1,  7.2,  7.3,  7.4,  7.5,  7.6,  8.1,  8.2,  8.3,  8.4,\n        8.5,  8.6,  9.1,  9.2,  9.3,  9.4,  9.5,  9.6, 10.1, 10.2, 10.3,\n       10.4, 10.5, 10.6, 11.1, 11.2, 11.3, 11.4, 11.5, 11.6, 12.1, 12.2,\n       12.3, 12.4, 12.5, 12.6, 13.1, 13.2, 13.3, 13.4, 13.5, 13.6, 14.1,\n       14.2, 14.3, 14.4, 14.5, 14.6, 15.1, 15.2, 15.3, 15.4, 15.5, 15.6,\n       16.1, 16.2, 16.3, 16.4, 16.5, 16.6, 16.7, 17.1, 17.2, 17.3, 17.4,\n       17.5, 17.6, 18.1, 18.2, 18.3, 18.4, 18.5, 18.6, 18.7, 19.1, 19.2,\n       19.3, 19.4, 19.5, 19.6,  1.7,  2.7,  5.7,  7.7, 11.7, 13.7, 15.7,\n        9.7,  8.7, 18.8, 10.7, 12.7, 19.7, 19.8,  0.8,  6.8, 14.7, 17.7,\n        2.8, 11.8, 11.9, 15.8,  3.7, 12.8, 12.9, 17.8, 17.9, 14.8,  1.8,\n       10.8, 19.9,  3.8,  9.8, 13.8,  5.8,  7.8,  7.9,  8.8, 16.8, 14.9,\n        0.9, 18.9,  4.8,  4.9,  1.9,  9.9,  8.9])"
     },
     "execution_count": 8,
     "metadata": {},
     "output_type": "execute_result"
    }
   ],
   "source": [
    "df.ball.unique()"
   ],
   "metadata": {
    "collapsed": false,
    "pycharm": {
     "name": "#%%\n"
    }
   }
  },
  {
   "cell_type": "code",
   "execution_count": null,
   "outputs": [],
   "source": [],
   "metadata": {
    "collapsed": false,
    "pycharm": {
     "name": "#%%\n"
    }
   }
  }
 ],
 "metadata": {
  "kernelspec": {
   "display_name": "Python 3",
   "language": "python",
   "name": "python3"
  },
  "language_info": {
   "codemirror_mode": {
    "name": "ipython",
    "version": 2
   },
   "file_extension": ".py",
   "mimetype": "text/x-python",
   "name": "python",
   "nbconvert_exporter": "python",
   "pygments_lexer": "ipython2",
   "version": "2.7.6"
  }
 },
 "nbformat": 4,
 "nbformat_minor": 0
}