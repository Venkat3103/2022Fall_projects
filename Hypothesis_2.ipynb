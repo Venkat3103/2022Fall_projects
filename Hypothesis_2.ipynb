{
 "cells": [
  {
   "cell_type": "markdown",
   "source": [
    "Author: Arjun Kumaran"
   ],
   "metadata": {
    "collapsed": false,
    "pycharm": {
     "name": "#%% md\n"
    }
   }
  },
  {
   "cell_type": "markdown",
   "source": [
    "All the Functions used in this notebook can be found in the Helper_Function_Hypothesis_2.py file"
   ],
   "metadata": {
    "collapsed": false,
    "pycharm": {
     "name": "#%% md\n"
    }
   }
  },
  {
   "cell_type": "code",
   "execution_count": 2,
   "outputs": [],
   "source": [
    "import os\n",
    "import pandas as pd\n",
    "import numpy as np\n",
    "import requests, zipfile, io\n",
    "from matplotlib import rcParams\n",
    "rcParams['figure.figsize'] = 11.7,15\n",
    "import Helper_Function_Hypothesis_2 as hf\n",
    "\n",
    "import warnings\n",
    "warnings.filterwarnings(\"ignore\")"
   ],
   "metadata": {
    "collapsed": false,
    "pycharm": {
     "name": "#%%\n"
    }
   }
  },
  {
   "cell_type": "code",
   "execution_count": 3,
   "outputs": [],
   "source": [
    "pd.set_option('display.max_rows', 10000)\n",
    "pd.set_option('display.max_columns', 50)\n",
    "pd.set_option('expand_frame_repr', False)"
   ],
   "metadata": {
    "collapsed": false,
    "pycharm": {
     "name": "#%%\n"
    }
   }
  },
  {
   "cell_type": "code",
   "execution_count": 4,
   "outputs": [],
   "source": [
    "df = pd.read_csv(\"https://github.com/Venkat3103/2022Fall_projects/blob/main/ipl_2018_2020_bbb.csv?raw=true\")\n",
    "match_info = pd.read_csv(\"https://raw.githubusercontent.com/Venkat3103/2022Fall_projects/main/ipl_match_info.csv\")\n",
    "bowler_info = pd.read_excel(\"https://github.com/Venkat3103/2022Fall_projects/blob/main/bowler_info.xlsx?raw=true\")\n",
    "teamsheet = pd.read_csv('https://raw.githubusercontent.com/Venkat3103/2022Fall_projects/main/teamsheet.csv')"
   ],
   "metadata": {
    "collapsed": false,
    "pycharm": {
     "name": "#%%\n"
    }
   }
  },
  {
   "cell_type": "code",
   "execution_count": 5,
   "outputs": [
    {
     "data": {
      "text/plain": "   Unnamed: 0  match_id season  start_date                               venue  innings  ball      batting_team         bowling_team    striker non_striker   bowler  runs_off_bat  extras  wides  noballs  byes  legbyes  penalty wicket_type player_dismissed  other_wicket_type  other_player_dismissed\n0           0   1136564   2018  2018-04-09  Rajiv Gandhi International Stadium        1   0.1  Rajasthan Royals  Sunrisers Hyderabad  AM Rahane   DJM Short  B Kumar             0       0    NaN      NaN   NaN      NaN      NaN         NaN              NaN                NaN                     NaN\n1           1   1136564   2018  2018-04-09  Rajiv Gandhi International Stadium        1   0.2  Rajasthan Royals  Sunrisers Hyderabad  AM Rahane   DJM Short  B Kumar             1       0    NaN      NaN   NaN      NaN      NaN         NaN              NaN                NaN                     NaN\n2           2   1136564   2018  2018-04-09  Rajiv Gandhi International Stadium        1   0.3  Rajasthan Royals  Sunrisers Hyderabad  DJM Short   AM Rahane  B Kumar             0       0    NaN      NaN   NaN      NaN      NaN         NaN              NaN                NaN                     NaN\n3           3   1136564   2018  2018-04-09  Rajiv Gandhi International Stadium        1   0.4  Rajasthan Royals  Sunrisers Hyderabad  DJM Short   AM Rahane  B Kumar             0       1    1.0      NaN   NaN      NaN      NaN         NaN              NaN                NaN                     NaN\n4           4   1136564   2018  2018-04-09  Rajiv Gandhi International Stadium        1   0.5  Rajasthan Royals  Sunrisers Hyderabad  DJM Short   AM Rahane  B Kumar             4       0    NaN      NaN   NaN      NaN      NaN         NaN              NaN                NaN                     NaN",
      "text/html": "<div>\n<style scoped>\n    .dataframe tbody tr th:only-of-type {\n        vertical-align: middle;\n    }\n\n    .dataframe tbody tr th {\n        vertical-align: top;\n    }\n\n    .dataframe thead th {\n        text-align: right;\n    }\n</style>\n<table border=\"1\" class=\"dataframe\">\n  <thead>\n    <tr style=\"text-align: right;\">\n      <th></th>\n      <th>Unnamed: 0</th>\n      <th>match_id</th>\n      <th>season</th>\n      <th>start_date</th>\n      <th>venue</th>\n      <th>innings</th>\n      <th>ball</th>\n      <th>batting_team</th>\n      <th>bowling_team</th>\n      <th>striker</th>\n      <th>non_striker</th>\n      <th>bowler</th>\n      <th>runs_off_bat</th>\n      <th>extras</th>\n      <th>wides</th>\n      <th>noballs</th>\n      <th>byes</th>\n      <th>legbyes</th>\n      <th>penalty</th>\n      <th>wicket_type</th>\n      <th>player_dismissed</th>\n      <th>other_wicket_type</th>\n      <th>other_player_dismissed</th>\n    </tr>\n  </thead>\n  <tbody>\n    <tr>\n      <th>0</th>\n      <td>0</td>\n      <td>1136564</td>\n      <td>2018</td>\n      <td>2018-04-09</td>\n      <td>Rajiv Gandhi International Stadium</td>\n      <td>1</td>\n      <td>0.1</td>\n      <td>Rajasthan Royals</td>\n      <td>Sunrisers Hyderabad</td>\n      <td>AM Rahane</td>\n      <td>DJM Short</td>\n      <td>B Kumar</td>\n      <td>0</td>\n      <td>0</td>\n      <td>NaN</td>\n      <td>NaN</td>\n      <td>NaN</td>\n      <td>NaN</td>\n      <td>NaN</td>\n      <td>NaN</td>\n      <td>NaN</td>\n      <td>NaN</td>\n      <td>NaN</td>\n    </tr>\n    <tr>\n      <th>1</th>\n      <td>1</td>\n      <td>1136564</td>\n      <td>2018</td>\n      <td>2018-04-09</td>\n      <td>Rajiv Gandhi International Stadium</td>\n      <td>1</td>\n      <td>0.2</td>\n      <td>Rajasthan Royals</td>\n      <td>Sunrisers Hyderabad</td>\n      <td>AM Rahane</td>\n      <td>DJM Short</td>\n      <td>B Kumar</td>\n      <td>1</td>\n      <td>0</td>\n      <td>NaN</td>\n      <td>NaN</td>\n      <td>NaN</td>\n      <td>NaN</td>\n      <td>NaN</td>\n      <td>NaN</td>\n      <td>NaN</td>\n      <td>NaN</td>\n      <td>NaN</td>\n    </tr>\n    <tr>\n      <th>2</th>\n      <td>2</td>\n      <td>1136564</td>\n      <td>2018</td>\n      <td>2018-04-09</td>\n      <td>Rajiv Gandhi International Stadium</td>\n      <td>1</td>\n      <td>0.3</td>\n      <td>Rajasthan Royals</td>\n      <td>Sunrisers Hyderabad</td>\n      <td>DJM Short</td>\n      <td>AM Rahane</td>\n      <td>B Kumar</td>\n      <td>0</td>\n      <td>0</td>\n      <td>NaN</td>\n      <td>NaN</td>\n      <td>NaN</td>\n      <td>NaN</td>\n      <td>NaN</td>\n      <td>NaN</td>\n      <td>NaN</td>\n      <td>NaN</td>\n      <td>NaN</td>\n    </tr>\n    <tr>\n      <th>3</th>\n      <td>3</td>\n      <td>1136564</td>\n      <td>2018</td>\n      <td>2018-04-09</td>\n      <td>Rajiv Gandhi International Stadium</td>\n      <td>1</td>\n      <td>0.4</td>\n      <td>Rajasthan Royals</td>\n      <td>Sunrisers Hyderabad</td>\n      <td>DJM Short</td>\n      <td>AM Rahane</td>\n      <td>B Kumar</td>\n      <td>0</td>\n      <td>1</td>\n      <td>1.0</td>\n      <td>NaN</td>\n      <td>NaN</td>\n      <td>NaN</td>\n      <td>NaN</td>\n      <td>NaN</td>\n      <td>NaN</td>\n      <td>NaN</td>\n      <td>NaN</td>\n    </tr>\n    <tr>\n      <th>4</th>\n      <td>4</td>\n      <td>1136564</td>\n      <td>2018</td>\n      <td>2018-04-09</td>\n      <td>Rajiv Gandhi International Stadium</td>\n      <td>1</td>\n      <td>0.5</td>\n      <td>Rajasthan Royals</td>\n      <td>Sunrisers Hyderabad</td>\n      <td>DJM Short</td>\n      <td>AM Rahane</td>\n      <td>B Kumar</td>\n      <td>4</td>\n      <td>0</td>\n      <td>NaN</td>\n      <td>NaN</td>\n      <td>NaN</td>\n      <td>NaN</td>\n      <td>NaN</td>\n      <td>NaN</td>\n      <td>NaN</td>\n      <td>NaN</td>\n      <td>NaN</td>\n    </tr>\n  </tbody>\n</table>\n</div>"
     },
     "execution_count": 5,
     "metadata": {},
     "output_type": "execute_result"
    }
   ],
   "source": [
    "df.head()"
   ],
   "metadata": {
    "collapsed": false,
    "pycharm": {
     "name": "#%%\n"
    }
   }
  },
  {
   "cell_type": "code",
   "execution_count": 6,
   "outputs": [],
   "source": [
    "if not os.path.exists('competition_data'):\n",
    "    os.mkdir('competition_data')\n",
    "    req = requests.get(\"https://cricsheet.org/downloads/ipl_male_csv2.zip\")\n",
    "    z = zipfile.ZipFile(io.BytesIO(req.content))\n",
    "    z.extractall(\"competition_data/ipl\")"
   ],
   "metadata": {
    "collapsed": false,
    "pycharm": {
     "name": "#%%\n"
    }
   }
  },
  {
   "cell_type": "code",
   "execution_count": 7,
   "outputs": [],
   "source": [
    "df.drop(columns={\"Unnamed: 0\"},inplace=True)"
   ],
   "metadata": {
    "collapsed": false,
    "pycharm": {
     "name": "#%%\n"
    }
   }
  },
  {
   "cell_type": "code",
   "execution_count": 8,
   "outputs": [
    {
     "data": {
      "text/plain": "array([ 0.1,  0.2,  0.3,  0.4,  0.5,  0.6,  0.7,  1.1,  1.2,  1.3,  1.4,\n        1.5,  1.6,  2.1,  2.2,  2.3,  2.4,  2.5,  2.6,  3.1,  3.2,  3.3,\n        3.4,  3.5,  3.6,  4.1,  4.2,  4.3,  4.4,  4.5,  4.6,  4.7,  5.1,\n        5.2,  5.3,  5.4,  5.5,  5.6,  6.1,  6.2,  6.3,  6.4,  6.5,  6.6,\n        6.7,  7.1,  7.2,  7.3,  7.4,  7.5,  7.6,  8.1,  8.2,  8.3,  8.4,\n        8.5,  8.6,  9.1,  9.2,  9.3,  9.4,  9.5,  9.6, 10.1, 10.2, 10.3,\n       10.4, 10.5, 10.6, 11.1, 11.2, 11.3, 11.4, 11.5, 11.6, 12.1, 12.2,\n       12.3, 12.4, 12.5, 12.6, 13.1, 13.2, 13.3, 13.4, 13.5, 13.6, 14.1,\n       14.2, 14.3, 14.4, 14.5, 14.6, 15.1, 15.2, 15.3, 15.4, 15.5, 15.6,\n       16.1, 16.2, 16.3, 16.4, 16.5, 16.6, 16.7, 17.1, 17.2, 17.3, 17.4,\n       17.5, 17.6, 18.1, 18.2, 18.3, 18.4, 18.5, 18.6, 18.7, 19.1, 19.2,\n       19.3, 19.4, 19.5, 19.6,  1.7,  2.7,  5.7,  7.7, 11.7, 13.7, 15.7,\n        9.7,  8.7, 18.8, 10.7, 12.7, 19.7, 19.8,  0.8,  6.8, 14.7, 17.7,\n        2.8, 11.8, 11.9, 15.8,  3.7, 12.8, 12.9, 17.8, 17.9, 14.8,  1.8,\n       10.8, 19.9,  3.8,  9.8, 13.8,  5.8,  7.8,  7.9,  8.8, 16.8, 14.9,\n        0.9, 18.9,  4.8,  4.9,  1.9,  9.9,  8.9])"
     },
     "execution_count": 8,
     "metadata": {},
     "output_type": "execute_result"
    }
   ],
   "source": [
    "df.ball.unique()"
   ],
   "metadata": {
    "collapsed": false,
    "pycharm": {
     "name": "#%%\n"
    }
   }
  },
  {
   "cell_type": "code",
   "execution_count": 9,
   "outputs": [],
   "source": [
    "df = hf.adjust_ball_number(df)"
   ],
   "metadata": {
    "collapsed": false,
    "pycharm": {
     "name": "#%%\n"
    }
   }
  },
  {
   "cell_type": "code",
   "execution_count": 10,
   "outputs": [
    {
     "data": {
      "text/plain": "array([ 0.1,  0.2,  0.3,  0.4,  0.5,  0.6,  1.1,  1.2,  1.3,  1.4,  1.5,\n        1.6,  2.1,  2.2,  2.3,  2.4,  2.5,  2.6,  3.1,  3.2,  3.3,  3.4,\n        3.5,  3.6,  4.1,  4.2,  4.3,  4.4,  4.5,  4.6,  5.1,  5.2,  5.3,\n        5.4,  5.5,  5.6,  6.1,  6.2,  6.3,  6.4,  6.5,  6.6,  7.1,  7.2,\n        7.3,  7.4,  7.5,  7.6,  8.1,  8.2,  8.3,  8.4,  8.5,  8.6,  9.1,\n        9.2,  9.3,  9.4,  9.5,  9.6, 10.1, 10.2, 10.3, 10.4, 10.5, 10.6,\n       11.1, 11.2, 11.3, 11.4, 11.5, 11.6, 12.1, 12.2, 12.3, 12.4, 12.5,\n       12.6, 13.1, 13.2, 13.3, 13.4, 13.5, 13.6, 14.1, 14.2, 14.3, 14.4,\n       14.5, 14.6, 15.1, 15.2, 15.3, 15.4, 15.5, 15.6, 16.1, 16.2, 16.3,\n       16.4, 16.5, 16.6, 17.1, 17.2, 17.3, 17.4, 17.5, 17.6, 18.1, 18.2,\n       18.3, 18.4, 18.5, 18.6, 19.1, 19.2, 19.3, 19.4, 19.5, 19.6, 11. ])"
     },
     "execution_count": 10,
     "metadata": {},
     "output_type": "execute_result"
    }
   ],
   "source": [
    "df.ball.unique()"
   ],
   "metadata": {
    "collapsed": false,
    "pycharm": {
     "name": "#%%\n"
    }
   }
  },
  {
   "cell_type": "markdown",
   "source": [
    "Changing Delhi's teamname from Delhi Daredevils to Delhi Capitals as it was officially changed in late December 2018 and to make it consistent in the dataset."
   ],
   "metadata": {
    "collapsed": false,
    "pycharm": {
     "name": "#%% md\n"
    }
   }
  },
  {
   "cell_type": "code",
   "execution_count": 11,
   "outputs": [],
   "source": [
    "df[\"batting_team\"] = np.where(df[\"batting_team\"] == \"Delhi Daredevils\", \"Delhi Capitals\", df[\"batting_team\"])\n",
    "df[\"bowling_team\"] = np.where(df[\"bowling_team\"] == \"Delhi Daredevils\", \"Delhi Capitals\", df[\"bowling_team\"])"
   ],
   "metadata": {
    "collapsed": false,
    "pycharm": {
     "name": "#%%\n"
    }
   }
  },
  {
   "cell_type": "code",
   "execution_count": 12,
   "outputs": [],
   "source": [
    "match_info = match_info.replace(\"Delhi Daredevils\", \"Delhi Capitals\")"
   ],
   "metadata": {
    "collapsed": false,
    "pycharm": {
     "name": "#%%\n"
    }
   }
  },
  {
   "cell_type": "code",
   "execution_count": 13,
   "outputs": [],
   "source": [
    "df = df.rename(columns={'2020/21': '2020'})"
   ],
   "metadata": {
    "collapsed": false,
    "pycharm": {
     "name": "#%%\n"
    }
   }
  },
  {
   "cell_type": "code",
   "execution_count": 14,
   "outputs": [],
   "source": [
    "df['is_wicket'] = np.where(df['wicket_type'].isnull(),0,1)"
   ],
   "metadata": {
    "collapsed": false,
    "pycharm": {
     "name": "#%%\n"
    }
   }
  },
  {
   "cell_type": "code",
   "execution_count": 15,
   "outputs": [
    {
     "data": {
      "text/plain": "   match_id season  start_date                               venue  innings  ball      batting_team         bowling_team    striker non_striker   bowler  runs_off_bat  extras  wides  noballs  byes  legbyes  penalty wicket_type player_dismissed  other_wicket_type  other_player_dismissed  is_wicket\n0   1136564   2018  2018-04-09  Rajiv Gandhi International Stadium        1   0.1  Rajasthan Royals  Sunrisers Hyderabad  AM Rahane   DJM Short  B Kumar             0       0    NaN      NaN   NaN      NaN      NaN         NaN              NaN                NaN                     NaN          0\n1   1136564   2018  2018-04-09  Rajiv Gandhi International Stadium        1   0.2  Rajasthan Royals  Sunrisers Hyderabad  AM Rahane   DJM Short  B Kumar             1       0    NaN      NaN   NaN      NaN      NaN         NaN              NaN                NaN                     NaN          0\n2   1136564   2018  2018-04-09  Rajiv Gandhi International Stadium        1   0.3  Rajasthan Royals  Sunrisers Hyderabad  DJM Short   AM Rahane  B Kumar             0       0    NaN      NaN   NaN      NaN      NaN         NaN              NaN                NaN                     NaN          0\n3   1136564   2018  2018-04-09  Rajiv Gandhi International Stadium        1   0.4  Rajasthan Royals  Sunrisers Hyderabad  DJM Short   AM Rahane  B Kumar             0       1    1.0      NaN   NaN      NaN      NaN         NaN              NaN                NaN                     NaN          0\n4   1136564   2018  2018-04-09  Rajiv Gandhi International Stadium        1   0.4  Rajasthan Royals  Sunrisers Hyderabad  DJM Short   AM Rahane  B Kumar             4       0    NaN      NaN   NaN      NaN      NaN         NaN              NaN                NaN                     NaN          0",
      "text/html": "<div>\n<style scoped>\n    .dataframe tbody tr th:only-of-type {\n        vertical-align: middle;\n    }\n\n    .dataframe tbody tr th {\n        vertical-align: top;\n    }\n\n    .dataframe thead th {\n        text-align: right;\n    }\n</style>\n<table border=\"1\" class=\"dataframe\">\n  <thead>\n    <tr style=\"text-align: right;\">\n      <th></th>\n      <th>match_id</th>\n      <th>season</th>\n      <th>start_date</th>\n      <th>venue</th>\n      <th>innings</th>\n      <th>ball</th>\n      <th>batting_team</th>\n      <th>bowling_team</th>\n      <th>striker</th>\n      <th>non_striker</th>\n      <th>bowler</th>\n      <th>runs_off_bat</th>\n      <th>extras</th>\n      <th>wides</th>\n      <th>noballs</th>\n      <th>byes</th>\n      <th>legbyes</th>\n      <th>penalty</th>\n      <th>wicket_type</th>\n      <th>player_dismissed</th>\n      <th>other_wicket_type</th>\n      <th>other_player_dismissed</th>\n      <th>is_wicket</th>\n    </tr>\n  </thead>\n  <tbody>\n    <tr>\n      <th>0</th>\n      <td>1136564</td>\n      <td>2018</td>\n      <td>2018-04-09</td>\n      <td>Rajiv Gandhi International Stadium</td>\n      <td>1</td>\n      <td>0.1</td>\n      <td>Rajasthan Royals</td>\n      <td>Sunrisers Hyderabad</td>\n      <td>AM Rahane</td>\n      <td>DJM Short</td>\n      <td>B Kumar</td>\n      <td>0</td>\n      <td>0</td>\n      <td>NaN</td>\n      <td>NaN</td>\n      <td>NaN</td>\n      <td>NaN</td>\n      <td>NaN</td>\n      <td>NaN</td>\n      <td>NaN</td>\n      <td>NaN</td>\n      <td>NaN</td>\n      <td>0</td>\n    </tr>\n    <tr>\n      <th>1</th>\n      <td>1136564</td>\n      <td>2018</td>\n      <td>2018-04-09</td>\n      <td>Rajiv Gandhi International Stadium</td>\n      <td>1</td>\n      <td>0.2</td>\n      <td>Rajasthan Royals</td>\n      <td>Sunrisers Hyderabad</td>\n      <td>AM Rahane</td>\n      <td>DJM Short</td>\n      <td>B Kumar</td>\n      <td>1</td>\n      <td>0</td>\n      <td>NaN</td>\n      <td>NaN</td>\n      <td>NaN</td>\n      <td>NaN</td>\n      <td>NaN</td>\n      <td>NaN</td>\n      <td>NaN</td>\n      <td>NaN</td>\n      <td>NaN</td>\n      <td>0</td>\n    </tr>\n    <tr>\n      <th>2</th>\n      <td>1136564</td>\n      <td>2018</td>\n      <td>2018-04-09</td>\n      <td>Rajiv Gandhi International Stadium</td>\n      <td>1</td>\n      <td>0.3</td>\n      <td>Rajasthan Royals</td>\n      <td>Sunrisers Hyderabad</td>\n      <td>DJM Short</td>\n      <td>AM Rahane</td>\n      <td>B Kumar</td>\n      <td>0</td>\n      <td>0</td>\n      <td>NaN</td>\n      <td>NaN</td>\n      <td>NaN</td>\n      <td>NaN</td>\n      <td>NaN</td>\n      <td>NaN</td>\n      <td>NaN</td>\n      <td>NaN</td>\n      <td>NaN</td>\n      <td>0</td>\n    </tr>\n    <tr>\n      <th>3</th>\n      <td>1136564</td>\n      <td>2018</td>\n      <td>2018-04-09</td>\n      <td>Rajiv Gandhi International Stadium</td>\n      <td>1</td>\n      <td>0.4</td>\n      <td>Rajasthan Royals</td>\n      <td>Sunrisers Hyderabad</td>\n      <td>DJM Short</td>\n      <td>AM Rahane</td>\n      <td>B Kumar</td>\n      <td>0</td>\n      <td>1</td>\n      <td>1.0</td>\n      <td>NaN</td>\n      <td>NaN</td>\n      <td>NaN</td>\n      <td>NaN</td>\n      <td>NaN</td>\n      <td>NaN</td>\n      <td>NaN</td>\n      <td>NaN</td>\n      <td>0</td>\n    </tr>\n    <tr>\n      <th>4</th>\n      <td>1136564</td>\n      <td>2018</td>\n      <td>2018-04-09</td>\n      <td>Rajiv Gandhi International Stadium</td>\n      <td>1</td>\n      <td>0.4</td>\n      <td>Rajasthan Royals</td>\n      <td>Sunrisers Hyderabad</td>\n      <td>DJM Short</td>\n      <td>AM Rahane</td>\n      <td>B Kumar</td>\n      <td>4</td>\n      <td>0</td>\n      <td>NaN</td>\n      <td>NaN</td>\n      <td>NaN</td>\n      <td>NaN</td>\n      <td>NaN</td>\n      <td>NaN</td>\n      <td>NaN</td>\n      <td>NaN</td>\n      <td>NaN</td>\n      <td>0</td>\n    </tr>\n  </tbody>\n</table>\n</div>"
     },
     "execution_count": 15,
     "metadata": {},
     "output_type": "execute_result"
    }
   ],
   "source": [
    "df.head()"
   ],
   "metadata": {
    "collapsed": false,
    "pycharm": {
     "name": "#%%\n"
    }
   }
  },
  {
   "cell_type": "markdown",
   "source": [
    "Overall IPL Batting Statistics for each player"
   ],
   "metadata": {
    "collapsed": false,
    "pycharm": {
     "name": "#%% md\n"
    }
   }
  },
  {
   "cell_type": "code",
   "execution_count": 16,
   "outputs": [
    {
     "data": {
      "text/plain": "             Player  Runs Scored  Balls Faced  Times Dismissed  Innings Played  Batting Average  Batting Strike Rate\n83         KL Rahul         1928         1378               37              42        52.108108           139.912917\n147        S Dhawan         1636         1174               43              49        38.046512           139.352641\n143         RR Pant         1523         1001               37              44        41.162162           152.147852\n181         V Kohli         1465         1095               36              43        40.694444           133.789954\n153        SA Yadav         1416         1039               39              44        36.307692           136.284889\n166         SS Iyer         1397         1119               42              46        33.261905           124.843610\n2    AB de Villiers         1382          852               29              38        47.655172           162.206573\n164       SR Watson         1252          918               41              43        30.536585           136.383442\n13        AT Rayudu         1243          987               35              44        35.514286           125.937183\n37        DA Warner         1240          889               25              28        49.600000           139.482565",
      "text/html": "<div>\n<style scoped>\n    .dataframe tbody tr th:only-of-type {\n        vertical-align: middle;\n    }\n\n    .dataframe tbody tr th {\n        vertical-align: top;\n    }\n\n    .dataframe thead th {\n        text-align: right;\n    }\n</style>\n<table border=\"1\" class=\"dataframe\">\n  <thead>\n    <tr style=\"text-align: right;\">\n      <th></th>\n      <th>Player</th>\n      <th>Runs Scored</th>\n      <th>Balls Faced</th>\n      <th>Times Dismissed</th>\n      <th>Innings Played</th>\n      <th>Batting Average</th>\n      <th>Batting Strike Rate</th>\n    </tr>\n  </thead>\n  <tbody>\n    <tr>\n      <th>83</th>\n      <td>KL Rahul</td>\n      <td>1928</td>\n      <td>1378</td>\n      <td>37</td>\n      <td>42</td>\n      <td>52.108108</td>\n      <td>139.912917</td>\n    </tr>\n    <tr>\n      <th>147</th>\n      <td>S Dhawan</td>\n      <td>1636</td>\n      <td>1174</td>\n      <td>43</td>\n      <td>49</td>\n      <td>38.046512</td>\n      <td>139.352641</td>\n    </tr>\n    <tr>\n      <th>143</th>\n      <td>RR Pant</td>\n      <td>1523</td>\n      <td>1001</td>\n      <td>37</td>\n      <td>44</td>\n      <td>41.162162</td>\n      <td>152.147852</td>\n    </tr>\n    <tr>\n      <th>181</th>\n      <td>V Kohli</td>\n      <td>1465</td>\n      <td>1095</td>\n      <td>36</td>\n      <td>43</td>\n      <td>40.694444</td>\n      <td>133.789954</td>\n    </tr>\n    <tr>\n      <th>153</th>\n      <td>SA Yadav</td>\n      <td>1416</td>\n      <td>1039</td>\n      <td>39</td>\n      <td>44</td>\n      <td>36.307692</td>\n      <td>136.284889</td>\n    </tr>\n    <tr>\n      <th>166</th>\n      <td>SS Iyer</td>\n      <td>1397</td>\n      <td>1119</td>\n      <td>42</td>\n      <td>46</td>\n      <td>33.261905</td>\n      <td>124.843610</td>\n    </tr>\n    <tr>\n      <th>2</th>\n      <td>AB de Villiers</td>\n      <td>1382</td>\n      <td>852</td>\n      <td>29</td>\n      <td>38</td>\n      <td>47.655172</td>\n      <td>162.206573</td>\n    </tr>\n    <tr>\n      <th>164</th>\n      <td>SR Watson</td>\n      <td>1252</td>\n      <td>918</td>\n      <td>41</td>\n      <td>43</td>\n      <td>30.536585</td>\n      <td>136.383442</td>\n    </tr>\n    <tr>\n      <th>13</th>\n      <td>AT Rayudu</td>\n      <td>1243</td>\n      <td>987</td>\n      <td>35</td>\n      <td>44</td>\n      <td>35.514286</td>\n      <td>125.937183</td>\n    </tr>\n    <tr>\n      <th>37</th>\n      <td>DA Warner</td>\n      <td>1240</td>\n      <td>889</td>\n      <td>25</td>\n      <td>28</td>\n      <td>49.600000</td>\n      <td>139.482565</td>\n    </tr>\n  </tbody>\n</table>\n</div>"
     },
     "execution_count": 16,
     "metadata": {},
     "output_type": "execute_result"
    }
   ],
   "source": [
    "batting_data = hf.get_batting_data(df)\n",
    "batting_data = batting_data.sort_values(by=\"Runs Scored\",ascending=False).head(10)\n",
    "batting_data"
   ],
   "metadata": {
    "collapsed": false,
    "pycharm": {
     "name": "#%%\n"
    }
   }
  },
  {
   "cell_type": "markdown",
   "source": [
    "Overall IPL Bowling Statistics for each player"
   ],
   "metadata": {
    "collapsed": false,
    "pycharm": {
     "name": "#%% md\n"
    }
   }
  },
  {
   "cell_type": "code",
   "execution_count": 17,
   "outputs": [
    {
     "data": {
      "text/plain": "             Bowler  Balls Bowled  Runs Conceded  Wickets Taken  innings_played  Economy Rate  Balls Per Wicket  Bowling Average\n60        JJ Bumrah          1070         1209.0             66              45      6.779439         16.212121        18.318182\n121     Rashid Khan          1159         1189.0             58              48      6.155306         19.982759        20.500000\n69         K Rabada           685          925.0             58              29      8.102190         11.810345        15.948276\n157       YS Chahal           939         1154.0             51              43      7.373802         18.411765        22.627451\n147        TA Boult           778         1101.0             48              34      8.491003         16.208333        22.937500\n57        JC Archer           825          981.0             46              35      7.134545         17.934783        21.326087\n38        DL Chahar           928         1156.0             44              43      7.474138         21.090909        26.272727\n100  Mohammed Shami           737         1081.0             42              32      8.800543         17.547619        25.738095\n125         S Gopal           774         1010.0             41              38      7.829457         18.878049        24.634146\n142  Sandeep Sharma           832         1059.0             38              36      7.637019         21.894737        27.868421",
      "text/html": "<div>\n<style scoped>\n    .dataframe tbody tr th:only-of-type {\n        vertical-align: middle;\n    }\n\n    .dataframe tbody tr th {\n        vertical-align: top;\n    }\n\n    .dataframe thead th {\n        text-align: right;\n    }\n</style>\n<table border=\"1\" class=\"dataframe\">\n  <thead>\n    <tr style=\"text-align: right;\">\n      <th></th>\n      <th>Bowler</th>\n      <th>Balls Bowled</th>\n      <th>Runs Conceded</th>\n      <th>Wickets Taken</th>\n      <th>innings_played</th>\n      <th>Economy Rate</th>\n      <th>Balls Per Wicket</th>\n      <th>Bowling Average</th>\n    </tr>\n  </thead>\n  <tbody>\n    <tr>\n      <th>60</th>\n      <td>JJ Bumrah</td>\n      <td>1070</td>\n      <td>1209.0</td>\n      <td>66</td>\n      <td>45</td>\n      <td>6.779439</td>\n      <td>16.212121</td>\n      <td>18.318182</td>\n    </tr>\n    <tr>\n      <th>121</th>\n      <td>Rashid Khan</td>\n      <td>1159</td>\n      <td>1189.0</td>\n      <td>58</td>\n      <td>48</td>\n      <td>6.155306</td>\n      <td>19.982759</td>\n      <td>20.500000</td>\n    </tr>\n    <tr>\n      <th>69</th>\n      <td>K Rabada</td>\n      <td>685</td>\n      <td>925.0</td>\n      <td>58</td>\n      <td>29</td>\n      <td>8.102190</td>\n      <td>11.810345</td>\n      <td>15.948276</td>\n    </tr>\n    <tr>\n      <th>157</th>\n      <td>YS Chahal</td>\n      <td>939</td>\n      <td>1154.0</td>\n      <td>51</td>\n      <td>43</td>\n      <td>7.373802</td>\n      <td>18.411765</td>\n      <td>22.627451</td>\n    </tr>\n    <tr>\n      <th>147</th>\n      <td>TA Boult</td>\n      <td>778</td>\n      <td>1101.0</td>\n      <td>48</td>\n      <td>34</td>\n      <td>8.491003</td>\n      <td>16.208333</td>\n      <td>22.937500</td>\n    </tr>\n    <tr>\n      <th>57</th>\n      <td>JC Archer</td>\n      <td>825</td>\n      <td>981.0</td>\n      <td>46</td>\n      <td>35</td>\n      <td>7.134545</td>\n      <td>17.934783</td>\n      <td>21.326087</td>\n    </tr>\n    <tr>\n      <th>38</th>\n      <td>DL Chahar</td>\n      <td>928</td>\n      <td>1156.0</td>\n      <td>44</td>\n      <td>43</td>\n      <td>7.474138</td>\n      <td>21.090909</td>\n      <td>26.272727</td>\n    </tr>\n    <tr>\n      <th>100</th>\n      <td>Mohammed Shami</td>\n      <td>737</td>\n      <td>1081.0</td>\n      <td>42</td>\n      <td>32</td>\n      <td>8.800543</td>\n      <td>17.547619</td>\n      <td>25.738095</td>\n    </tr>\n    <tr>\n      <th>125</th>\n      <td>S Gopal</td>\n      <td>774</td>\n      <td>1010.0</td>\n      <td>41</td>\n      <td>38</td>\n      <td>7.829457</td>\n      <td>18.878049</td>\n      <td>24.634146</td>\n    </tr>\n    <tr>\n      <th>142</th>\n      <td>Sandeep Sharma</td>\n      <td>832</td>\n      <td>1059.0</td>\n      <td>38</td>\n      <td>36</td>\n      <td>7.637019</td>\n      <td>21.894737</td>\n      <td>27.868421</td>\n    </tr>\n  </tbody>\n</table>\n</div>"
     },
     "execution_count": 17,
     "metadata": {},
     "output_type": "execute_result"
    }
   ],
   "source": [
    "bowling_data = hf.get_bowling_data(df)\n",
    "bowling_data = bowling_data.sort_values(by=\"Wickets Taken\",ascending=False).head(10)\n",
    "bowling_data"
   ],
   "metadata": {
    "collapsed": false,
    "pycharm": {
     "name": "#%%\n"
    }
   }
  },
  {
   "cell_type": "markdown",
   "source": [
    "# Hypothesis - 2\n",
    "\n",
    "Teams which adhere to pitch conditions increase their chances of winning.\n",
    "\n",
    "Cricket is a game which is hugely affected by the pitch condition (i.e. the soil on\n",
    "which the game is being played on). Different approaches work in different\n",
    "conditions. We analyze what kind of strategies have been incorporated\n",
    "throughout the season in general in particular venues and whether or not the\n",
    "successful teams have gone to follow the pattern. Every decision on the field is\n",
    "completely taken by the captain of the team and we will analyze the strategies\n",
    "incorporated by successful teams."
   ],
   "metadata": {
    "collapsed": false,
    "pycharm": {
     "name": "#%% md\n"
    }
   }
  },
  {
   "cell_type": "code",
   "execution_count": null,
   "outputs": [],
   "source": [],
   "metadata": {
    "collapsed": false,
    "pycharm": {
     "name": "#%%\n"
    }
   }
  }
 ],
 "metadata": {
  "kernelspec": {
   "display_name": "Python 3",
   "language": "python",
   "name": "python3"
  },
  "language_info": {
   "codemirror_mode": {
    "name": "ipython",
    "version": 2
   },
   "file_extension": ".py",
   "mimetype": "text/x-python",
   "name": "python",
   "nbconvert_exporter": "python",
   "pygments_lexer": "ipython2",
   "version": "2.7.6"
  }
 },
 "nbformat": 4,
 "nbformat_minor": 0
}