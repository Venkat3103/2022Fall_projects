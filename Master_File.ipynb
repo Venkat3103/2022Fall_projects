{
 "cells": [
  {
   "cell_type": "code",
   "execution_count": 30,
   "metadata": {
    "id": "Cs2o8IqRid3b",
    "pycharm": {
     "name": "#%%\n"
    }
   },
   "outputs": [],
   "source": [
    "import os\n",
    "import csv\n",
    "import pandas as pd\n",
    "import matplotlib.pyplot as plt\n",
    "import numpy as np\n",
    "import seaborn as sns\n",
    "import math"
   ]
  },
  {
   "cell_type": "code",
   "execution_count": 20,
   "metadata": {
    "id": "AUBR3bVliia7",
    "pycharm": {
     "name": "#%%\n"
    }
   },
   "outputs": [],
   "source": [
    "df = pd.read_csv(\"https://github.com/Venkat3103/2022Fall_projects/blob/main/ipl_2018_2020_bbb.csv?raw=true\")\n",
    "match_info = pd.read_csv(\"https://raw.githubusercontent.com/Venkat3103/2022Fall_projects/main/ipl_match_info.csv\")\n",
    "bowler_info = pd.read_excel(\"https://github.com/Venkat3103/2022Fall_projects/blob/main/bowler_info.xlsx?raw=true\")\n",
    "teamsheet = pd.read_csv('https://raw.githubusercontent.com/Venkat3103/2022Fall_projects/main/teamsheet.csv')"
   ]
  },
  {
   "cell_type": "code",
   "execution_count": 21,
   "metadata": {
    "colab": {
     "base_uri": "https://localhost:8080/"
    },
    "id": "CGpLcDmvNHJB",
    "outputId": "4ec2458f-f23d-4eb0-8e79-0d8c95922502",
    "pycharm": {
     "name": "#%%\n"
    }
   },
   "outputs": [
    {
     "data": {
      "text/plain": [
       "Index(['Unnamed: 0', 'match_id', 'season', 'start_date', 'venue', 'innings',\n",
       "       'ball', 'batting_team', 'bowling_team', 'striker', 'non_striker',\n",
       "       'bowler', 'runs_off_bat', 'extras', 'wides', 'noballs', 'byes',\n",
       "       'legbyes', 'penalty', 'wicket_type', 'player_dismissed',\n",
       "       'other_wicket_type', 'other_player_dismissed'],\n",
       "      dtype='object')"
      ]
     },
     "execution_count": 21,
     "metadata": {},
     "output_type": "execute_result"
    }
   ],
   "source": [
    "df.columns"
   ]
  },
  {
   "cell_type": "code",
   "execution_count": null,
   "metadata": {
    "id": "5FuO6xpCPJaz",
    "pycharm": {
     "name": "#%%\n"
    }
   },
   "outputs": [],
   "source": [
    "df.drop(columns={\"Unnamed: 0\"},inplace=True)"
   ]
  },
  {
   "cell_type": "markdown",
   "metadata": {
    "id": "xY_X6gfjNkgt",
    "pycharm": {
     "name": "#%% md\n"
    }
   },
   "source": [
    "##Data Preprocessing and feature engineering"
   ]
  },
  {
   "cell_type": "code",
   "execution_count": 22,
   "metadata": {
    "colab": {
     "base_uri": "https://localhost:8080/"
    },
    "id": "hd8JjB8fNJ9t",
    "outputId": "bc857c41-c266-4f60-9e05-12d490c9dc6f",
    "pycharm": {
     "name": "#%%\n"
    }
   },
   "outputs": [
    {
     "data": {
      "text/plain": [
       "array([ 0.1,  0.2,  0.3,  0.4,  0.5,  0.6,  0.7,  1.1,  1.2,  1.3,  1.4,\n",
       "        1.5,  1.6,  2.1,  2.2,  2.3,  2.4,  2.5,  2.6,  3.1,  3.2,  3.3,\n",
       "        3.4,  3.5,  3.6,  4.1,  4.2,  4.3,  4.4,  4.5,  4.6,  4.7,  5.1,\n",
       "        5.2,  5.3,  5.4,  5.5,  5.6,  6.1,  6.2,  6.3,  6.4,  6.5,  6.6,\n",
       "        6.7,  7.1,  7.2,  7.3,  7.4,  7.5,  7.6,  8.1,  8.2,  8.3,  8.4,\n",
       "        8.5,  8.6,  9.1,  9.2,  9.3,  9.4,  9.5,  9.6, 10.1, 10.2, 10.3,\n",
       "       10.4, 10.5, 10.6, 11.1, 11.2, 11.3, 11.4, 11.5, 11.6, 12.1, 12.2,\n",
       "       12.3, 12.4, 12.5, 12.6, 13.1, 13.2, 13.3, 13.4, 13.5, 13.6, 14.1,\n",
       "       14.2, 14.3, 14.4, 14.5, 14.6, 15.1, 15.2, 15.3, 15.4, 15.5, 15.6,\n",
       "       16.1, 16.2, 16.3, 16.4, 16.5, 16.6, 16.7, 17.1, 17.2, 17.3, 17.4,\n",
       "       17.5, 17.6, 18.1, 18.2, 18.3, 18.4, 18.5, 18.6, 18.7, 19.1, 19.2,\n",
       "       19.3, 19.4, 19.5, 19.6,  1.7,  2.7,  5.7,  7.7, 11.7, 13.7, 15.7,\n",
       "        9.7,  8.7, 18.8, 10.7, 12.7, 19.7, 19.8,  0.8,  6.8, 14.7, 17.7,\n",
       "        2.8, 11.8, 11.9, 15.8,  3.7, 12.8, 12.9, 17.8, 17.9, 14.8,  1.8,\n",
       "       10.8, 19.9,  3.8,  9.8, 13.8,  5.8,  7.8,  7.9,  8.8, 16.8, 14.9,\n",
       "        0.9, 18.9,  4.8,  4.9,  1.9,  9.9,  8.9])"
      ]
     },
     "execution_count": 22,
     "metadata": {},
     "output_type": "execute_result"
    }
   ],
   "source": [
    "df.ball.unique()"
   ]
  },
  {
   "cell_type": "code",
   "execution_count": 24,
   "metadata": {
    "colab": {
     "base_uri": "https://localhost:8080/"
    },
    "id": "qYNdW9i2NjnD",
    "outputId": "08a38122-b92d-4b52-cb4f-99d2b6207f8f",
    "pycharm": {
     "name": "#%%\n"
    }
   },
   "outputs": [
    {
     "name": "stderr",
     "output_type": "stream",
     "text": [
      "/usr/local/lib/python3.7/dist-packages/ipykernel_launcher.py:6: SettingWithCopyWarning: \n",
      "A value is trying to be set on a copy of a slice from a DataFrame\n",
      "\n",
      "See the caveats in the documentation: https://pandas.pydata.org/pandas-docs/stable/user_guide/indexing.html#returning-a-view-versus-a-copy\n",
      "  \n",
      "/usr/local/lib/python3.7/dist-packages/ipykernel_launcher.py:4: SettingWithCopyWarning: \n",
      "A value is trying to be set on a copy of a slice from a DataFrame\n",
      "\n",
      "See the caveats in the documentation: https://pandas.pydata.org/pandas-docs/stable/user_guide/indexing.html#returning-a-view-versus-a-copy\n",
      "  after removing the cwd from sys.path.\n",
      "/usr/local/lib/python3.7/dist-packages/ipykernel_launcher.py:10: SettingWithCopyWarning: \n",
      "A value is trying to be set on a copy of a slice from a DataFrame\n",
      "\n",
      "See the caveats in the documentation: https://pandas.pydata.org/pandas-docs/stable/user_guide/indexing.html#returning-a-view-versus-a-copy\n",
      "  # Remove the CWD from sys.path while we load stuff.\n"
     ]
    }
   ],
   "source": [
    "def adjust_ball_number(df):  \n",
    "  \"\"\"\n",
    "  returns a dataframe with ball number in the range of .1 and .6\n",
    "  :param df: dataframe with ball by ball data\n",
    "  :return df: updated dataframe\n",
    "  \"\"\"\n",
    "  for i in range(1,len(df)):\n",
    "    if(df['match_id'][i] == df['match_id'][i-1] and df['innings'][i] == df['innings'][i-1]):\n",
    "      if (not (math.isnan(df['wides'][i-1]))) or (not math.isnan(df['noballs'][i-1]) or (df['wicket_type'][i] == 'run out')):\n",
    "        df['ball'][i] = df['ball'][i-1]\n",
    "      elif(math.floor(df['ball'][i]) == math.floor(df['ball'][i-1])):\n",
    "        df['ball'][i] = round(df['ball'][i-1]+.1,1)\n",
    "        if(round(df['ball'][i] - math.floor(df['ball'][i]),1) > 0.6):\n",
    "          curi = i\n",
    "          while(df['ball'][curi] > math.floor(df['ball'][i]) and not df['legbyes'][curi] > 0):\n",
    "            df['ball'][curi] = round(df['ball'][curi]-.1,1)\n",
    "            curi -= 1\n",
    "  return df"
   ]
  },
  {
   "cell_type": "code",
   "execution_count": null,
   "metadata": {},
   "outputs": [],
   "source": [
    "adjust_ball_number(df)"
   ]
  },
  {
   "cell_type": "code",
   "execution_count": 25,
   "metadata": {
    "colab": {
     "base_uri": "https://localhost:8080/"
    },
    "id": "9dPfetzpOmWg",
    "outputId": "b0ff87e9-c14c-4a62-b8d1-4710aa03d605",
    "pycharm": {
     "name": "#%%\n"
    }
   },
   "outputs": [
    {
     "data": {
      "text/plain": [
       "array([ 0.1,  0.2,  0.3,  0.4,  0.5,  1.1,  1.2,  1.3,  1.4,  1.5,  1.6,\n",
       "        2.1,  2.2,  2.3,  2.4,  2.5,  2.6,  3.1,  3.2,  3.3,  3.4,  3.5,\n",
       "        3.6,  4.1,  4.2,  4.3,  4.4,  4.5,  4.6,  5.1,  5.2,  5.3,  5.4,\n",
       "        5.5,  5.6,  6.1,  6.2,  6.3,  6.4,  6.5,  6.6,  7.1,  7.2,  7.3,\n",
       "        7.4,  7.5,  7.6,  8.1,  8.2,  8.3,  8.4,  8.5,  8.6,  9.1,  9.2,\n",
       "        9.3,  9.4,  9.5,  9.6, 10.1, 10.2, 10.3, 10.4, 10.5, 10.6, 11.1,\n",
       "       11.2, 11.3, 11.4, 11.5, 11.6, 12.1, 12.2, 12.3, 12.4, 12.5, 12.6,\n",
       "       13.1, 13.2, 13.3, 13.4, 13.5, 13.6, 14.1, 14.2, 14.3, 14.4, 14.5,\n",
       "       14.6, 15.1, 15.2, 15.3, 15.4, 15.5, 15.6, 16.1, 16.2, 16.3, 16.4,\n",
       "       16.5, 16.6, 17.1, 17.2, 17.3, 17.4, 17.5, 17.6, 18.1, 18.2, 18.3,\n",
       "       18.4, 18.5, 18.6, 19.1, 19.2, 19.3, 19.4, 19.5,  0.6, 11. , 19.6])"
      ]
     },
     "execution_count": 25,
     "metadata": {},
     "output_type": "execute_result"
    }
   ],
   "source": [
    "df.ball.unique()"
   ]
  },
  {
   "cell_type": "code",
   "execution_count": 67,
   "metadata": {
    "colab": {
     "base_uri": "https://localhost:8080/"
    },
    "id": "KaDJz2lXfba7",
    "outputId": "049b8e20-52bc-46b7-f55d-a5b76ee7771e",
    "pycharm": {
     "name": "#%%\n"
    }
   },
   "outputs": [
    {
     "data": {
      "text/plain": [
       "Index(['Unnamed: 0', 'match_id', 'season', 'start_date', 'venue', 'innings',\n",
       "       'ball', 'batting_team', 'bowling_team', 'striker', 'non_striker',\n",
       "       'bowler', 'runs_off_bat', 'extras', 'wides', 'noballs', 'byes',\n",
       "       'legbyes', 'penalty', 'wicket_type', 'player_dismissed',\n",
       "       'other_wicket_type', 'other_player_dismissed', 'phase'],\n",
       "      dtype='object')"
      ]
     },
     "execution_count": 67,
     "metadata": {},
     "output_type": "execute_result"
    }
   ],
   "source": [
    "df.columns"
   ]
  },
  {
   "cell_type": "markdown",
   "metadata": {
    "id": "C4ZzS0Olg17p",
    "pycharm": {
     "name": "#%% md\n"
    }
   },
   "source": [
    "updating the recent team name change in the dataset"
   ]
  },
  {
   "cell_type": "code",
   "execution_count": 68,
   "metadata": {
    "id": "OeuiQhvwen_A",
    "pycharm": {
     "name": "#%%\n"
    }
   },
   "outputs": [],
   "source": [
    "df[\"batting_team\"] = np.where(df[\"batting_team\"] == \"Delhi Daredevils\", \"Delhi Capitals\", df[\"batting_team\"])\n",
    "df[\"bowling_team\"] = np.where(df[\"bowling_team\"] == \"Delhi Daredevils\", \"Delhi Capitals\", df[\"bowling_team\"])"
   ]
  },
  {
   "cell_type": "markdown",
   "metadata": {
    "id": "9nggIa7Mg8i3",
    "pycharm": {
     "name": "#%% md\n"
    }
   },
   "source": [
    "adding a column to check if a wicket has fallen in that particular delivery"
   ]
  },
  {
   "cell_type": "markdown",
   "metadata": {
    "pycharm": {
     "name": "#%% md\n"
    }
   },
   "source": [
    "df['is_wicket'] = np.where(df['wicket_type'].isnull(),0,1)"
   ]
  },
  {
   "cell_type": "code",
   "execution_count": null,
   "outputs": [],
   "source": [
    "def find_phase(ball):\n",
    "  \"\"\"\n",
    "  Computes which phase a particular ball belongs to\n",
    "  :param ball: the ball number in the match\n",
    "  :return: phase as a string\n",
    "  >>> find_phase(4.2)\n",
    "  \"powerplay\"\n",
    "  \"\"\"\n",
    "  if ball<=5.6:\n",
    "    return \"powerplay\"\n",
    "  elif ball<=15.6:\n",
    "    return \"middle overs\"\n",
    "  else:\n",
    "    return \"death overs\""
   ],
   "metadata": {
    "collapsed": false,
    "pycharm": {
     "name": "#%%\n"
    }
   }
  },
  {
   "cell_type": "code",
   "execution_count": null,
   "outputs": [],
   "source": [
    "df['phase'] = np.vectorize(find_phase)(df['ball'])"
   ],
   "metadata": {
    "collapsed": false,
    "pycharm": {
     "name": "#%%\n"
    }
   }
  },
  {
   "cell_type": "code",
   "execution_count": null,
   "outputs": [],
   "source": [
    "#match_info.drop(columns=[\"Unnamed: 0\"],inplace=True)"
   ],
   "metadata": {
    "collapsed": false,
    "pycharm": {
     "name": "#%%\n"
    }
   }
  },
  {
   "cell_type": "code",
   "execution_count": null,
   "outputs": [],
   "source": [
    "df.columns"
   ],
   "metadata": {
    "collapsed": false,
    "pycharm": {
     "name": "#%%\n"
    }
   }
  },
  {
   "cell_type": "code",
   "execution_count": null,
   "outputs": [],
   "source": [
    "batting_phase_stats = pd.merge(df.groupby(['phase','batting_team'])['runs_off_bat'].sum().to_frame(),df.groupby(['phase','batting_team'])['ball'].count().to_frame(),on=[\"phase\",\"batting_team\"],how=\"inner\")\n",
    "batting_phase_stats['batting_run_rate'] = batting_phase_stats['runs_off_bat']*6/batting_phase_stats['ball']\n",
    "pd.merge(batting_phase_stats,df.groupby(['phase','batting_team'])['is_wicket'].sum().to_frame(),on=['phase','batting_team'],how='inner')"
   ],
   "metadata": {
    "collapsed": false,
    "pycharm": {
     "name": "#%%\n"
    }
   }
  },
  {
   "cell_type": "code",
   "execution_count": null,
   "outputs": [],
   "source": [
    "bowling_phase_stats = pd.merge(df.groupby(['phase','bowling_team'])['runs_off_bat'].sum().to_frame(),df.groupby(['phase','bowling_team'])['ball'].count().to_frame(),on=[\"phase\",\"bowling_team\"],how=\"inner\")\n",
    "bowling_phase_stats['bowling_run_rate'] = bowling_phase_stats['runs_off_bat']*6/bowling_phase_stats['ball']\n",
    "bowling_phase_stats = pd.merge(bowling_phase_stats,df.groupby(['phase','bowling_team'])['is_wicket'].sum().to_frame(),on=['phase','bowling_team'],how='inner')\n",
    "bowling_phase_stats"
   ],
   "metadata": {
    "collapsed": false,
    "pycharm": {
     "name": "#%%\n"
    }
   }
  }
 ],
 "metadata": {
  "colab": {
   "provenance": []
  },
  "kernelspec": {
   "display_name": "Python 3 (ipykernel)",
   "language": "python",
   "name": "python3"
  },
  "language_info": {
   "codemirror_mode": {
    "name": "ipython",
    "version": 3
   },
   "file_extension": ".py",
   "mimetype": "text/x-python",
   "name": "python",
   "nbconvert_exporter": "python",
   "pygments_lexer": "ipython3",
   "version": "3.8.2"
  }
 },
 "nbformat": 4,
 "nbformat_minor": 1
}