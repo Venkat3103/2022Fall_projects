{
 "nbformat": 4,
 "nbformat_minor": 0,
 "metadata": {
  "colab": {
   "provenance": [],
   "authorship_tag": "ABX9TyO5+6AYbyBj+0Nsc33U+8qd",
   "include_colab_link": true
  },
  "kernelspec": {
   "name": "python3",
   "display_name": "Python 3"
  },
  "language_info": {
   "name": "python"
  }
 },
 "cells": [
  {
   "cell_type": "markdown",
   "metadata": {
    "id": "view-in-github",
    "colab_type": "text",
    "pycharm": {
     "name": "#%% md\n"
    }
   },
   "source": [
    "<a href=\"https://colab.research.google.com/github/Venkat3103/2022Fall_projects/blob/main/Collect_Data.ipynb\" target=\"_parent\"><img src=\"https://colab.research.google.com/assets/colab-badge.svg\" alt=\"Open In Colab\"/></a>"
   ]
  },
  {
   "cell_type": "code",
   "source": [
    "import os\n",
    "import csv\n",
    "import pandas as pd"
   ],
   "metadata": {
    "id": "bFKLMKu_I8XZ",
    "pycharm": {
     "name": "#%%\n"
    }
   },
   "execution_count": 1,
   "outputs": []
  },
  {
   "cell_type": "code",
   "execution_count": null,
   "outputs": [],
   "source": [
    "os.mkdir('/content/competition_data')"
   ],
   "metadata": {
    "collapsed": false,
    "pycharm": {
     "name": "#%%\n"
    }
   }
  },
  {
   "cell_type": "code",
   "execution_count": null,
   "outputs": [],
   "source": [
    "import requests, zipfile, io\n",
    "req = requests.get(\"https://cricsheet.org/downloads/ipl_male_csv2.zip\") \n",
    "z = zipfile.ZipFile(io.BytesIO(req.content))\n",
    "z.extractall(\"/content/competition_data/ipl\")"
   ],
   "metadata": {
    "collapsed": false,
    "pycharm": {
     "name": "#%%\n"
    }
   }
  },
  {
   "cell_type": "code",
   "execution_count": null,
   "outputs": [],
   "source": [
    "path_of_the_directory = '/content/competition_data/'\n",
    "ext = ('_info.csv')\n",
    "match_info = pd.DataFrame(columns=[\"Team1\",\"Team2\",\"date\",\"venue\",\"toss_winner\",\"toss_decision\",\"match_winner\",])\n",
    "def checkValidMatch(reader):\n",
    "  startDate = \"2018/04/06\"\n",
    "  endDate = \"2020/11/11\"\n",
    "  curDate = \"\"\n",
    "  attributes = []\n",
    "  return_val = False\n",
    "  for row in reader:\n",
    "    #print(\"inside for\")\n",
    "    #print(row)\n",
    "    #if(row[1]==)\n",
    "    if(row[0] == 'info' and row[1]=='team'):\n",
    "      #print(\"passed team\")\n",
    "      attributes.append(row[2])\n",
    "      #print(attributes)\n",
    "    if(row[0] == 'info' and row[1]=='date'):\n",
    "      #print(\"passed team\")\n",
    "      attributes.append(row[2])\n",
    "    if(row[0] == 'info' and row[1]=='venue'):\n",
    "      #print(\"passed venue\")\n",
    "      attributes.append(row[2])\n",
    "      #print(attributes)\n",
    "    if(row[0] == 'info' and row[1]=='toss_winner'):\n",
    "      #print(\"passed toss_winner\")\n",
    "      attributes.append(row[2])\n",
    "      #print(attributes)\n",
    "    if(row[0] == 'info' and row[1]=='toss_decision'):\n",
    "      #print(\"passed toss_decision\")\n",
    "      attributes.append(row[2])\n",
    "      #print(attributes)\n",
    "    if(row[0] == 'info' and row[1]=='winner'):\n",
    "      #print(\"passed winner\",row[2])\n",
    "      attributes.append(row[2])\n",
    "      #print(attributes)\n",
    "    if(row[0] == 'info' and row[1] == \"date\"):\n",
    "      if(row[2] >= startDate and row[2] <= endDate):\n",
    "        return_val = True\n",
    "      else: \n",
    "        return_val = False\n",
    "  if(len(attributes)==7):\n",
    "    match_info.loc[len(match_info)-1] = attributes\n",
    "  return return_val\n",
    "\n",
    "teamsheet = pd.DataFrame(columns=[\"Team1\",\"Team2\",\"date\",\"venue\",\"toss_winner\",\"toss_decision\",\"match_winner\",])\n",
    "def create_teamsheet(reader):\n",
    "  return teamsheet\n",
    "for competitions in os.listdir(path_of_the_directory):\n",
    "  competition_dir = path_of_the_directory + competitions +'/'\n",
    "  comp_bbb_data = []\n",
    "  for files in os.listdir(competition_dir):\n",
    "    if files.endswith(ext):\n",
    "      with open(competition_dir + files, 'r') as matchfile:\n",
    "        reader = csv.reader(matchfile)\n",
    "        if(checkValidMatch(reader)):\n",
    "          matchfile.seek(0)\n",
    "          #if(competitions != \"t20s\" or checkTeamsPresent(reader,teams)):\n",
    "          filename = files.split(\"_\")[0]+\".csv\"\n",
    "          print(competition_dir+filename)\n",
    "          comp_bbb_data.append(pd.read_csv(competition_dir+filename, index_col=None, header=0))\n",
    "            # matchfile.seek(0)\n",
    "            # for row in reader:    \n",
    "            #   if(row[0] == 'info' and row[1] == \"player\"):\n",
    "            #     matches_played[row[3]] = matches_played.get(row[3],0) + 1\n",
    "    else:\n",
    "        continue\n",
    "  comp_bbb_data = pd.concat(comp_bbb_data, axis=0, ignore_index=True)\n",
    "  comp_bbb_data.to_csv(competitions+'_bbb_data.csv')\n",
    "  match_info.to_csv(\"match_info.csv\")"
   ],
   "metadata": {
    "collapsed": false,
    "pycharm": {
     "name": "#%%\n"
    }
   }
  },
  {
   "cell_type": "code",
   "execution_count": null,
   "outputs": [],
   "source": [
    "path_of_the_directory = '/content/competition_data/'\n",
    "ext = ('_info.csv')\n",
    "\n",
    "def create_teamsheet(reader):\n",
    "  teamsheet = pd.DataFrame(columns=[\"Team\",\"date\",\"player1\",\"player2\",\"player3\",\"player4\",\"player5\",\"player6\",\"player7\",\"player8\",\"player9\",\"player10\",\"player11\"])\n",
    "  team1 = []\n",
    "  team2 = []\n",
    "  rownum=0\n",
    "  for row in reader:\n",
    "    rownum+=1\n",
    "    #print(row)\n",
    "    if(row[0]==\"info\" and row[1]==\"team\" and rownum==3):\n",
    "      team1.append(row[2])\n",
    "    if(row[0]==\"info\" and row[1]==\"team\" and rownum==4):\n",
    "      team2.append(row[2])\n",
    "    if(row[0]==\"info\" and row[1]==\"date\"):\n",
    "      team1.append(row[2])\n",
    "      team2.append(row[2])\n",
    "    if(row[0]==\"info\" and row[1]==\"player\" and row[2]==team1[0]):\n",
    "      team1.append(row[3])\n",
    "    if(row[0]==\"info\" and row[1]==\"player\" and row[2]==team2[0]):\n",
    "      team2.append(row[3])\n",
    "  #print(team1)\n",
    "  #print(team2)\n",
    "  if(len(team1)==teamsheet.shape[1]):\n",
    "    teamsheet.loc[len(teamsheet)-1] = team1\n",
    "  if(len(team2)==teamsheet.shape[1]):\n",
    "    teamsheet.loc[len(teamsheet)-1] = team2\n",
    "  print(teamsheet)\n",
    "  return teamsheet\n",
    "\n",
    "teamsheet_final = pd.DataFrame(columns=[\"Team\",\"date\",\"player1\",\"player2\",\"player3\",\"player4\",\"player5\",\"player6\",\"player7\",\"player8\",\"player9\",\"player10\",\"player11\"])\n",
    "for competitions in os.listdir(path_of_the_directory):\n",
    "  competition_dir = path_of_the_directory + competitions +'/'\n",
    "  for files in os.listdir(competition_dir):\n",
    "    if files.endswith(ext):\n",
    "      with open(competition_dir + files, 'r') as matchfile:\n",
    "        #print(matchfile)\n",
    "        reader = csv.reader(matchfile)\n",
    "        teamsheet_final = pd.concat([teamsheet_final,create_teamsheet(reader)])\n",
    "    else:\n",
    "        continue"
   ],
   "metadata": {
    "collapsed": false,
    "pycharm": {
     "name": "#%%\n"
    }
   }
  },
  {
   "cell_type": "code",
   "execution_count": null,
   "outputs": [],
   "source": [
    "comp_bbb_data.to_csv(\"ipl_2018_2020_bbb.csv\")"
   ],
   "metadata": {
    "collapsed": false,
    "pycharm": {
     "name": "#%%\n"
    }
   }
  },
  {
   "cell_type": "code",
   "execution_count": null,
   "outputs": [],
   "source": [
    "import datetime\n",
    "match_info['date']= pd.to_datetime(match_info['date'])\n",
    "match_info['year'] = pd.DatetimeIndex(match_info['date']).year\n",
    "year_list = [2018,2019,2020]\n",
    "ipl_info = match_info[match_info['year'].isin(year_list)]\n",
    "#ipl_info.sort_values(by=\"date\").to_csv(\"ipl_match_info.csv\")"
   ],
   "metadata": {
    "collapsed": false,
    "pycharm": {
     "name": "#%%\n"
    }
   }
  },
  {
   "cell_type": "code",
   "execution_count": null,
   "outputs": [],
   "source": [
    "comp_bbb_data"
   ],
   "metadata": {
    "collapsed": false,
    "pycharm": {
     "name": "#%%\n"
    }
   }
  },
  {
   "cell_type": "code",
   "execution_count": null,
   "outputs": [],
   "source": [
    "ipl_info"
   ],
   "metadata": {
    "collapsed": false,
    "pycharm": {
     "name": "#%%\n"
    }
   }
  }
 ]
}